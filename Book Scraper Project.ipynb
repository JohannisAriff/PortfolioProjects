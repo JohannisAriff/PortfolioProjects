{
 "cells": [
  {
   "cell_type": "code",
   "execution_count": 13,
   "id": "6994066a-7693-432e-8fd1-ee6a733df55a",
   "metadata": {},
   "outputs": [],
   "source": [
    "import requests\n",
    "\n",
    "from bs4 import BeautifulSoup"
   ]
  },
  {
   "cell_type": "code",
   "execution_count": 43,
   "id": "a7acbb9c-c4e3-4ed4-ad08-9f809aac549d",
   "metadata": {},
   "outputs": [],
   "source": [
    "import pandas as pd"
   ]
  },
  {
   "cell_type": "code",
   "execution_count": 3,
   "id": "d5be8d5a-3d67-4892-af6b-02fc1d3be01c",
   "metadata": {},
   "outputs": [],
   "source": [
    "url = \"https://books.toscrape.com/catalogue/page-1.html\""
   ]
  },
  {
   "cell_type": "code",
   "execution_count": 5,
   "id": "6e27d421-577e-4fd0-9689-eac8104893ad",
   "metadata": {},
   "outputs": [],
   "source": [
    "response = requests.get(url)"
   ]
  },
  {
   "cell_type": "code",
   "execution_count": 7,
   "id": "c915f7ec-9347-47eb-933b-63c2d5100460",
   "metadata": {},
   "outputs": [
    {
     "name": "stdout",
     "output_type": "stream",
     "text": [
      "<Response [200]>\n"
     ]
    }
   ],
   "source": [
    "print(response)"
   ]
  },
  {
   "cell_type": "code",
   "execution_count": 9,
   "id": "9c42b165-6aef-4d1e-9322-e5d16660834f",
   "metadata": {},
   "outputs": [],
   "source": [
    "response = response.content"
   ]
  },
  {
   "cell_type": "code",
   "execution_count": 15,
   "id": "74369ac2-2e82-4735-a232-de77c5d7aaa4",
   "metadata": {},
   "outputs": [],
   "source": [
    "soup = BeautifulSoup(response, 'html.parser')"
   ]
  },
  {
   "cell_type": "code",
   "execution_count": 19,
   "id": "8a46aac3-b63a-4380-9e2e-cd994ed3e959",
   "metadata": {},
   "outputs": [],
   "source": [
    "ol = soup.find('ol')"
   ]
  },
  {
   "cell_type": "code",
   "execution_count": 21,
   "id": "69f11ef8-1753-42ae-b4ba-d6ef41b3b5ae",
   "metadata": {},
   "outputs": [],
   "source": [
    "articles = ol.find_all('article', class_='product_pod')"
   ]
  },
  {
   "cell_type": "code",
   "execution_count": 37,
   "id": "d2a59a95-86ed-40bf-95c3-43f58477da0c",
   "metadata": {},
   "outputs": [
    {
     "name": "stdout",
     "output_type": "stream",
     "text": [
      "51.77\n",
      "53.74\n",
      "50.10\n",
      "47.82\n",
      "54.23\n",
      "22.65\n",
      "33.34\n",
      "17.93\n",
      "22.60\n",
      "52.15\n",
      "13.99\n",
      "20.66\n",
      "17.46\n",
      "52.29\n",
      "35.02\n",
      "57.25\n",
      "23.88\n",
      "37.59\n",
      "51.33\n",
      "45.17\n"
     ]
    }
   ],
   "source": [
    "for article in articles:\n",
    "    image = article.find('img')\n",
    "    title = image.attrs['alt']\n",
    "    star = article.find('p')\n",
    "    star = star['class'][1]\n",
    "    price = article.find('p', class_='price_color').text\n",
    "    price = price[1:]"
   ]
  },
  {
   "cell_type": "code",
   "execution_count": 41,
   "id": "958780cf-d18f-4a87-83b2-56568a79f1fc",
   "metadata": {},
   "outputs": [
    {
     "name": "stdout",
     "output_type": "stream",
     "text": [
      "[['A Light in the Attic', '51.77', 'Three'], ['Tipping the Velvet', '53.74', 'One'], ['Soumission', '50.10', 'One'], ['Sharp Objects', '47.82', 'Four'], ['Sapiens: A Brief History of Humankind', '54.23', 'Five'], ['The Requiem Red', '22.65', 'One'], ['The Dirty Little Secrets of Getting Your Dream Job', '33.34', 'Four'], ['The Coming Woman: A Novel Based on the Life of the Infamous Feminist, Victoria Woodhull', '17.93', 'Three'], ['The Boys in the Boat: Nine Americans and Their Epic Quest for Gold at the 1936 Berlin Olympics', '22.60', 'Four'], ['The Black Maria', '52.15', 'One'], ['Starving Hearts (Triangular Trade Trilogy, #1)', '13.99', 'Two'], [\"Shakespeare's Sonnets\", '20.66', 'Four'], ['Set Me Free', '17.46', 'Five'], [\"Scott Pilgrim's Precious Little Life (Scott Pilgrim #1)\", '52.29', 'Five'], ['Rip it Up and Start Again', '35.02', 'Five'], ['Our Band Could Be Your Life: Scenes from the American Indie Underground, 1981-1991', '57.25', 'Three'], ['Olio', '23.88', 'One'], ['Mesaerion: The Best Science Fiction Stories 1800-1849', '37.59', 'One'], ['Libertarianism for Beginners', '51.33', 'Two'], [\"It's Only the Himalayas\", '45.17', 'Two']]\n"
     ]
    }
   ],
   "source": [
    "books = []\n",
    "for article in articles:\n",
    "    image = article.find('img')\n",
    "    title = image.attrs['alt']\n",
    "    star = article.find('p')\n",
    "    star = star['class'][1]\n",
    "    price = article.find('p', class_='price_color').text\n",
    "    price = price[1:]\n",
    "    books.append([title, price, star])\n",
    "\n",
    "print(books)"
   ]
  },
  {
   "cell_type": "code",
   "execution_count": 45,
   "id": "ebed2fc7-a7b6-473d-b544-175096501316",
   "metadata": {},
   "outputs": [],
   "source": [
    "books = []\n",
    "for i in range(1, 51):\n",
    "    url = f\"https://books.toscrape.com/catalogue/page-{i}.html\"\n",
    "    response = requests.get(url)\n",
    "    response = response.content\n",
    "    soup = BeautifulSoup(response, 'html.parser')\n",
    "    ol = soup.find('ol')\n",
    "    articles = ol.find_all('article', class_='product_pod')\n",
    "    \n",
    "    for article in articles:\n",
    "        image = article.find('img')\n",
    "        title = image.attrs['alt']\n",
    "        star = article.find('p')\n",
    "        star = star['class'][1]\n",
    "        price = article.find('p', class_='price_color').text\n",
    "        price = price[1:]\n",
    "        books.append([title, price, star])"
   ]
  },
  {
   "cell_type": "code",
   "execution_count": 47,
   "id": "4ee60f2b-153b-4643-aa9b-67f8cea98a39",
   "metadata": {},
   "outputs": [],
   "source": [
    "df = pd.DataFrame(books, columns=['Title', 'Price', 'Star Rating'])"
   ]
  },
  {
   "cell_type": "code",
   "execution_count": 49,
   "id": "89ce6186-f4f5-4c7e-afa7-a842f545b700",
   "metadata": {},
   "outputs": [],
   "source": [
    "df.to_csv('books.csv')"
   ]
  },
  {
   "cell_type": "code",
   "execution_count": null,
   "id": "88ec72a8-a82b-4f94-85e2-13d62f815cb8",
   "metadata": {},
   "outputs": [],
   "source": []
  }
 ],
 "metadata": {
  "kernelspec": {
   "display_name": "Python 3 (ipykernel)",
   "language": "python",
   "name": "python3"
  },
  "language_info": {
   "codemirror_mode": {
    "name": "ipython",
    "version": 3
   },
   "file_extension": ".py",
   "mimetype": "text/x-python",
   "name": "python",
   "nbconvert_exporter": "python",
   "pygments_lexer": "ipython3",
   "version": "3.12.4"
  }
 },
 "nbformat": 4,
 "nbformat_minor": 5
}
